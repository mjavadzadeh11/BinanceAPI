{
  "nbformat": 4,
  "nbformat_minor": 0,
  "metadata": {
    "colab": {
      "name": "price action test.ipynb",
      "provenance": [],
      "collapsed_sections": [],
      "authorship_tag": "ABX9TyNvTVfMT9u4Yjbe5HJvF1fB",
      "include_colab_link": true
    },
    "kernelspec": {
      "name": "python3",
      "display_name": "Python 3"
    },
    "language_info": {
      "name": "python"
    }
  },
  "cells": [
    {
      "cell_type": "markdown",
      "metadata": {
        "id": "view-in-github",
        "colab_type": "text"
      },
      "source": [
        "<a href=\"https://colab.research.google.com/github/mjavadzadeh11/BinanceAPI/blob/master/price_action_test.ipynb\" target=\"_parent\"><img src=\"https://colab.research.google.com/assets/colab-badge.svg\" alt=\"Open In Colab\"/></a>"
      ]
    },
    {
      "cell_type": "code",
      "execution_count": null,
      "metadata": {
        "id": "toFkxjCjuIWB"
      },
      "outputs": [],
      "source": [
        "pip install pandas-ta"
      ]
    },
    {
      "cell_type": "code",
      "source": [
        "import pandas_ta as ta\n",
        "import pandas as pd \n",
        "import matplotlib.pyplot as plt\n",
        "import datetime as dt\n",
        "import plotly.graph_objects as go\n",
        "import plotly.express as px\n",
        "import time\n",
        "import json\n",
        "import requests\n",
        "import numpy as np"
      ],
      "metadata": {
        "id": "YknPi-SDuf22",
        "outputId": "8c30fb6e-9228-4b54-cf4d-50c7fd1d3986",
        "colab": {
          "base_uri": "https://localhost:8080/"
        }
      },
      "execution_count": null,
      "outputs": [
        {
          "output_type": "error",
          "ename": "ModuleNotFoundError",
          "evalue": "ignored",
          "traceback": [
            "\u001b[0;31m---------------------------------------------------------------------------\u001b[0m",
            "\u001b[0;31mModuleNotFoundError\u001b[0m                       Traceback (most recent call last)",
            "\u001b[0;32m<ipython-input-1-f4bd634762b0>\u001b[0m in \u001b[0;36m<module>\u001b[0;34m()\u001b[0m\n\u001b[0;32m----> 1\u001b[0;31m \u001b[0;32mimport\u001b[0m \u001b[0mpandas_ta\u001b[0m \u001b[0;32mas\u001b[0m \u001b[0mta\u001b[0m\u001b[0;34m\u001b[0m\u001b[0;34m\u001b[0m\u001b[0m\n\u001b[0m\u001b[1;32m      2\u001b[0m \u001b[0;32mimport\u001b[0m \u001b[0mpandas\u001b[0m \u001b[0;32mas\u001b[0m \u001b[0mpd\u001b[0m\u001b[0;34m\u001b[0m\u001b[0;34m\u001b[0m\u001b[0m\n\u001b[1;32m      3\u001b[0m \u001b[0;32mimport\u001b[0m \u001b[0mmatplotlib\u001b[0m\u001b[0;34m.\u001b[0m\u001b[0mpyplot\u001b[0m \u001b[0;32mas\u001b[0m \u001b[0mplt\u001b[0m\u001b[0;34m\u001b[0m\u001b[0;34m\u001b[0m\u001b[0m\n\u001b[1;32m      4\u001b[0m \u001b[0;32mimport\u001b[0m \u001b[0mdatetime\u001b[0m \u001b[0;32mas\u001b[0m \u001b[0mdt\u001b[0m\u001b[0;34m\u001b[0m\u001b[0;34m\u001b[0m\u001b[0m\n\u001b[1;32m      5\u001b[0m \u001b[0;32mimport\u001b[0m \u001b[0mplotly\u001b[0m\u001b[0;34m.\u001b[0m\u001b[0mgraph_objects\u001b[0m \u001b[0;32mas\u001b[0m \u001b[0mgo\u001b[0m\u001b[0;34m\u001b[0m\u001b[0;34m\u001b[0m\u001b[0m\n",
            "\u001b[0;31mModuleNotFoundError\u001b[0m: No module named 'pandas_ta'",
            "",
            "\u001b[0;31m---------------------------------------------------------------------------\u001b[0;32m\nNOTE: If your import is failing due to a missing package, you can\nmanually install dependencies using either !pip or !apt.\n\nTo view examples of installing some common dependencies, click the\n\"Open Examples\" button below.\n\u001b[0;31m---------------------------------------------------------------------------\u001b[0m\n"
          ],
          "errorDetails": {
            "actions": [
              {
                "action": "open_url",
                "actionText": "Open Examples",
                "url": "/notebooks/snippets/importing_libraries.ipynb"
              }
            ]
          }
        }
      ]
    },
    {
      "cell_type": "code",
      "source": [
        "def yf(autosave=False ,ticker='btc' , start_date=dt.date.today()- dt.timedelta(365) , end_date =dt.date.today() , interval = '1d' ):\n",
        "  ''' set auto_save to True for auto_saving csv files'''\n",
        "  \n",
        "  As = 'On' if autosave else 'Off'\n",
        "\n",
        "  print(f'auto saving has choosen {As}')\n",
        "  interval = interval\n",
        "  try:\n",
        "    start_date = pd.to_datetime(start_date).date()\n",
        "    end_date = pd.to_datetime(end_date).date()\n",
        "\n",
        "    Ticker = ticker.upper() + '-USD'\n",
        "    print(f'Process for  {Ticker} from {start_date} to {end_date} started.')\n",
        "    period1 = int(time.mktime(start_date.timetuple()))\n",
        "    period2 = int(time.mktime(end_date.timetuple()))\n",
        "\n",
        "    query = f'https://query1.finance.yahoo.com/v7/finance/download/{Ticker}?period1={period1}&period2={period2}&interval={interval}&events=history&includeAdjustedClose=true'\n",
        "    df=pd.read_csv(query , index_col = 'Date' ,parse_dates=True)\n",
        "    if autosave:\n",
        "      df.to_csv(f'{ticker}{end_date}.csv')\n",
        "    return df , interval , ticker\n",
        "  except:\n",
        "    print(\"Input dates is incorrect! please insert the input dates in 'YYYYMD' format\")"
      ],
      "metadata": {
        "id": "PF73UkURu4fc"
      },
      "execution_count": null,
      "outputs": []
    },
    {
      "cell_type": "code",
      "source": [
        "df , interval  , ticker= yf()"
      ],
      "metadata": {
        "colab": {
          "base_uri": "https://localhost:8080/"
        },
        "id": "Eunj772ywPu1",
        "outputId": "21a002af-d46d-4489-8c49-33981af48cfe"
      },
      "execution_count": null,
      "outputs": [
        {
          "output_type": "stream",
          "name": "stdout",
          "text": [
            "auto saving has choosen Off\n",
            "Process for  BTC-USD from 2021-02-19 to 2022-02-19 started.\n"
          ]
        }
      ]
    },
    {
      "cell_type": "code",
      "source": [
        ""
      ],
      "metadata": {
        "id": "frLjxn_fejCb",
        "colab": {
          "base_uri": "https://localhost:8080/",
          "height": 35
        },
        "outputId": "dcc7fdd3-f573-41fe-bdd5-a186743f764b"
      },
      "execution_count": null,
      "outputs": [
        {
          "output_type": "execute_result",
          "data": {
            "application/vnd.google.colaboratory.intrinsic+json": {
              "type": "string"
            },
            "text/plain": [
              "'btc'"
            ]
          },
          "metadata": {},
          "execution_count": 93
        }
      ]
    },
    {
      "cell_type": "code",
      "source": [
        "df.info()"
      ],
      "metadata": {
        "colab": {
          "base_uri": "https://localhost:8080/"
        },
        "id": "WeIg0Klfb1Rb",
        "outputId": "c5f10b54-a7fd-448f-e1ca-4a2472c72918"
      },
      "execution_count": null,
      "outputs": [
        {
          "output_type": "stream",
          "name": "stdout",
          "text": [
            "<class 'pandas.core.frame.DataFrame'>\n",
            "DatetimeIndex: 366 entries, 2021-02-09 to 2022-02-09\n",
            "Data columns (total 6 columns):\n",
            " #   Column     Non-Null Count  Dtype  \n",
            "---  ------     --------------  -----  \n",
            " 0   Open       366 non-null    float64\n",
            " 1   High       366 non-null    float64\n",
            " 2   Low        366 non-null    float64\n",
            " 3   Close      366 non-null    float64\n",
            " 4   Adj Close  366 non-null    float64\n",
            " 5   Volume     366 non-null    int64  \n",
            "dtypes: float64(5), int64(1)\n",
            "memory usage: 20.0 KB\n"
          ]
        }
      ]
    },
    {
      "cell_type": "code",
      "source": [
        "def Binance (symbol ='btc', interval='4h' , startTime= dt.datetime.today() - dt.timedelta(100) , endTime= dt.datetime.today()):\n",
        "    ''' symbol=\"ETHUSDT or BTCUSDT , ...\" , interval=\"1h,4h,8h,12h,1d\", times = dt.datetime(2020,1,1) '''\n",
        "    symbol = symbol.upper() + 'USDT'\n",
        "    \n",
        "    url = \"https://api.binance.com/api/v3/klines\"\n",
        "    startTime= str(int(startTime.timestamp()*1000))\n",
        "    endTime= str(int(endTime.timestamp()*1000))\n",
        "    limit =\"1000\"\n",
        "    req_p = {\"symbol\" : symbol , \"interval\": interval , 'startTime':startTime , 'endTime':endTime , 'limit':limit}\n",
        "    response = pd.DataFrame(json.loads(requests.get(url , params = req_p).text))\n",
        "    if len(response.index)==0 :\n",
        "        return None\n",
        "    response=response.iloc[:,0:6]\n",
        "    response.columns=['Date' , 'Open' , 'High' , 'Low' , 'Close' , 'Volume' ]\n",
        "    response['Date'] = [dt.datetime.fromtimestamp(x/1000) for x in response['Date']]\n",
        "    response.set_index(['Date'] , inplace=True)\n",
        "    return response , interval"
      ],
      "metadata": {
        "id": "DtoQBN-jGude"
      },
      "execution_count": null,
      "outputs": []
    },
    {
      "cell_type": "code",
      "source": [
        "df , interval = Binance(symbol= 'dot')\n",
        "df=df.applymap(lambda x: float(x))"
      ],
      "metadata": {
        "id": "UxEx-isKKxQO"
      },
      "execution_count": null,
      "outputs": []
    },
    {
      "cell_type": "code",
      "source": [
        "df"
      ],
      "metadata": {
        "id": "H6uhKlVMlUop"
      },
      "execution_count": null,
      "outputs": []
    },
    {
      "cell_type": "code",
      "source": [
        "def diff(node , list):\n",
        "  eliminate=[]\n",
        "  for arg in list:\n",
        "    if (node-arg)/node <0.04  and (node-arg)/node >0 and node!=arg:\n",
        "      eliminate.append(arg)\n",
        "    elif (node-arg)/node <0  and (node-arg)/node >-0.04 and node!=arg:\n",
        "      eliminate.append(arg)\n",
        "    else:\n",
        "      pass\n",
        "  return eliminate"
      ],
      "metadata": {
        "id": "rrH-FQofh_rN"
      },
      "execution_count": null,
      "outputs": []
    },
    {
      "cell_type": "code",
      "source": [
        "def point_adder(list):\n",
        "  \n",
        "  list.append([dt.datetime.today() , list[0][1]])\n",
        "  return list"
      ],
      "metadata": {
        "id": "BmUvhQ9yiHeI"
      },
      "execution_count": null,
      "outputs": []
    },
    {
      "cell_type": "code",
      "source": [
        "def closest(list, K ): \n",
        "  output=[]\n",
        "  lst= [SR[1] for SR in list]\n",
        "  cv= lst[min(range(len(lst)), key = lambda i: abs(lst[i]-K))]\n",
        "  for i in list:\n",
        "    if i[1]==cv:\n",
        "      output.append([i[0] , cv])\n",
        "  return output"
      ],
      "metadata": {
        "id": "Up623gjMFPWf"
      },
      "execution_count": null,
      "outputs": []
    },
    {
      "cell_type": "code",
      "source": [
        "def Static(df=df , pivot=14):\n",
        "\n",
        "  if isinstance(df.index ,pd.core.indexes.datetimes.DatetimeIndex) :\n",
        "    df.reset_index(inplace=True)\n",
        " \n",
        "  #finding peaks:\n",
        "  Strong_Resistance = []\n",
        "  Weak_Resistance = []\n",
        "  Strong_Support = []\n",
        "  Weak_Support=[]\n",
        "\n",
        "  for i in range (pivot ,df.shape[0]-pivot):\n",
        "    # For strong resistance:\n",
        "    lower_values = [df.loc[i , 'High'] for i in range(i-(pivot-1), i)]\n",
        "    higher_values = [df.loc[i,'High'] for i in range(i+1, i+pivot)]\n",
        "\n",
        "    if df.loc[i, 'High'] > max(lower_values) and df.loc[i,'High'] > max(higher_values) and len(diff(df.loc[i, 'High'],[SR[1] for SR in Strong_Resistance]))==0  :   # and len(diff(df.loc[i, 'High'],[SR[1] for SR in Strong_Resistance]))==0\n",
        "      \n",
        "      \n",
        "      Strong_Resistance.append([df.loc[i,'Date'],df.loc[i, 'High']])\n",
        "\n",
        "    #For weak resistance:\n",
        "\n",
        "    lows=[df.loc[i , 'High'] for i in range(i-(int(pivot/2)-1) ,i)]\n",
        "    highs=[df.loc[i,'High'] for i in range(i+1, i+int(pivot/2))]\n",
        "    if df.loc [i ,'High'] > max(lows) and df.loc [i,'High'] >max(highs):\n",
        "      Weak_Resistance.append([df.loc[i,'Date'],df.loc [i ,'High']])\n",
        "\n",
        "  #Finging Vallys:\n",
        "  for i in range ( pivot , df.shape[0]-pivot):\n",
        "    #Storng Support:\n",
        "    lower_values= [df.loc[i,'Low'] for i in range(i-(pivot-1), i) ]\n",
        "    higher_values = [df.loc[i,'Low'] for i in range(i+1, i+pivot )] \n",
        "    if df.loc[i, 'Low'] < min(lower_values) and df.loc[i,'Low'] < min (higher_values) and len(diff(df.loc[i, 'Low'],[SR[1] for SR in Strong_Support]))==0:\n",
        "      Strong_Support.append([df.loc[i,'Date'],df.loc[i, 'Low']])\n",
        "\n",
        "        #Weak Support:\n",
        "    lower_values= [df.loc[i,'Low'] for i in range(i-(int(pivot/2)-1), i) ]\n",
        "    higher_values = [df.loc[i,'Low'] for i in range(i+1, i+int(pivot/2) )] \n",
        "    if df.loc[i, 'Low'] < min(lower_values) and df.loc[i,'Low'] < min (higher_values):\n",
        "      Weak_Support.append([df.loc[i,'Date'],df.loc[i, 'Low']])\n",
        "\n",
        "    #Return index\n",
        "  df.set_index(['Date'] , inplace=True)\n",
        "  #adding point and find closest Static line from last price:\n",
        "  #Strong_Resistance = point_adder(closest( Strong_Resistance , df.loc[df.index[-1] , 'Close'] ))\n",
        "  #Strong_Support = point_adder(closest( Strong_Support , df.loc[df.index[-1] , 'Close'] ))\n",
        "\n",
        "\n",
        "  return  Strong_Resistance , Strong_Support "
      ],
      "metadata": {
        "id": "YTUYklXMwhaE"
      },
      "execution_count": null,
      "outputs": []
    },
    {
      "cell_type": "code",
      "source": [
        "Strong_Resistance ,Strong_Support  =Static()"
      ],
      "metadata": {
        "id": "eZFQ7WhpDEgd"
      },
      "execution_count": null,
      "outputs": []
    },
    {
      "cell_type": "code",
      "source": [
        "Strong_Resistance"
      ],
      "metadata": {
        "id": "lYKDm0xUw3UF",
        "colab": {
          "base_uri": "https://localhost:8080/"
        },
        "outputId": "1782e286-b728-48aa-a6c8-f443a764e64a"
      },
      "execution_count": null,
      "outputs": [
        {
          "output_type": "execute_result",
          "data": {
            "text/plain": [
              "[[Timestamp('2021-03-13 00:00:00'), 61683.863281],\n",
              " [Timestamp('2021-04-14 00:00:00'), 64863.097656],\n",
              " [Timestamp('2021-06-15 00:00:00'), 41295.269531],\n",
              " [Timestamp('2021-09-07 00:00:00'), 52853.765625],\n",
              " [Timestamp('2021-11-10 00:00:00'), 68789.625]]"
            ]
          },
          "metadata": {},
          "execution_count": 46
        }
      ]
    },
    {
      "cell_type": "code",
      "source": [
        "output=point_adder(closest( Strong_Resistance , df.loc[df.index[-1] , 'Close'] ))\n",
        "output1=point_adder(closest( Strong_Support , df.loc[df.index[-1] , 'Close'] ))"
      ],
      "metadata": {
        "id": "1BgysVpFGZ03"
      },
      "execution_count": null,
      "outputs": []
    },
    {
      "cell_type": "code",
      "source": [
        "output"
      ],
      "metadata": {
        "colab": {
          "base_uri": "https://localhost:8080/"
        },
        "id": "2XGSwlIAAgS5",
        "outputId": "0716e50b-5ba9-4372-9a83-60a14e1f612f"
      },
      "execution_count": null,
      "outputs": [
        {
          "output_type": "execute_result",
          "data": {
            "text/plain": [
              "[[Timestamp('2021-06-15 00:00:00'), 41295.269531],\n",
              " [datetime.datetime(2022, 2, 19, 11, 43, 46, 154861), 41295.269531]]"
            ]
          },
          "metadata": {},
          "execution_count": 48
        }
      ]
    },
    {
      "cell_type": "code",
      "source": [
        "def point_append(data , interval , df=df):\n",
        "  ''' point adder to trend line'''\n",
        "\n",
        "\n",
        "  slope = (data.Values[1]-data.Values[0]) / (data.Index[1] - data.Index[0])\n",
        "  coef = data.Values[0] - slope * data.Index[0]\n",
        "  \n",
        "  distance = date_sub(data,interval)      #(df.Index[1] - df.Index[0])*0.7 + df.Index[1] #(dt.datetime.now()-df.loc[1,'Date Index']  ).days   + df.loc[1,'Index']\n",
        "  new_y= (slope * distance) + (coef)\n",
        "  date_index =df.loc[df.index[-1] , 'Date']  #df.loc[df.index[-1] , 'Date']  #df.loc[1,'Date Index'] + dt.timedelta(int((df.Index[1] - df.Index[0]) ))\n",
        "  \n",
        "\n",
        "  list=[distance, date_index,new_y ]\n",
        "  data.loc[2] = list\n",
        "\n",
        "  return data "
      ],
      "metadata": {
        "id": "rKZunlcfAxzk"
      },
      "execution_count": null,
      "outputs": []
    },
    {
      "cell_type": "code",
      "source": [
        ""
      ],
      "metadata": {
        "id": "h1TsDhpD8eB0"
      },
      "execution_count": null,
      "outputs": []
    },
    {
      "cell_type": "code",
      "source": [
        "def date_sub(df, interval):\n",
        "  import math \n",
        "\n",
        "  if interval[-1] =='h': #hourly distance base on interval\n",
        "    interval = int(interval[0:-1])\n",
        "    total_time=str(dt.datetime.now() -df.loc[1,'Date Index']).split(' ')\n",
        "    day = int(total_time[0])\n",
        "    hour =math.floor( int( total_time[2].split(':')[0]) ) #math.ceil\n",
        "    #mintue = int(total_time[2].split(':')[1])/60\n",
        "    \n",
        "    #epoch base on interval\n",
        "    epoch = day *24 / interval + hour/interval\n",
        "\n",
        "   \n",
        "\n",
        "    return  epoch + df['Index'][1]\n",
        "\n",
        "  elif interval[-1] =='d': #daily distance\n",
        "    return (dt.datetime.now()-df.loc[1,'Date Index']  ).days   + df.loc[1,'Index'] \n",
        "    \n",
        "  elif interval[-1] =='w': # weekly distance\n",
        "    \n",
        "    return math.ceil((dt.datetime.now()-df.loc[1,'Date Index']  ).days/ 7 )+ df.loc[1,'Index']\n",
        "\n",
        "  elif interval[-1] =='M':\n",
        "    return math.ceil((dt.datetime.now()-df.loc[1,'Date Index']  ).days/ 30 )+ df.loc[1,'Index']\n"
      ],
      "metadata": {
        "id": "x5DY6QVsSB54"
      },
      "execution_count": null,
      "outputs": []
    },
    {
      "cell_type": "code",
      "source": [
        "def trend_line(df,pivot):\n",
        "  ''' pivot: number of candel in pivot , n: how many trend line '''\n",
        "\n",
        "  if isinstance(df.index ,pd.core.indexes.datetimes.DatetimeIndex):\n",
        "    df.reset_index(inplace=True)\n",
        "  highs =[]\n",
        "  lows=[]\n",
        "\n",
        "  for i in range(pivot , df.shape[0]-pivot):\n",
        "    lower = [df.loc[i,'High'] for i in range(i-(pivot-1), i)]\n",
        "    higher = [df.loc[i,'High'] for i in range(i+1, i+pivot)]\n",
        "    if df.loc[i,'High'] > max(lower) and df.loc[i,'High'] > max(higher):\n",
        "      highs.append([i,df.loc[i,'Date'] , df.loc[i,'High']])\n",
        "  highs = pd.DataFrame(highs)\n",
        "  highs.columns = ['Index' , 'Date Index' , 'Values']\n",
        "  \n",
        " \n",
        "  highs=highs.tail(2)\n",
        "  highs.reset_index(drop=True , inplace=True)\n",
        "  \n",
        "  highs = point_append(highs , interval)\n",
        "\n",
        "  for i in range(pivot , df.shape[0]-pivot):\n",
        "    lower = [df.loc[i,'Low'] for i in range(i-(pivot-1), i)]\n",
        "    higher = [df.loc[i,'Low'] for i in range(i+1, i+pivot)]\n",
        "    if df.loc[i,'Low'] < min(lower) and df.loc[i,'Low'] < min(higher):\n",
        "      lows.append([i, df.loc[i,'Date'], df.loc[i,'Low']] )\n",
        "\n",
        "  lows = pd.DataFrame(lows)\n",
        "  lows.columns = ['Index' , 'Date Index' , 'Values']\n",
        "  lows=lows.tail(2)\n",
        "  lows.reset_index(drop=True , inplace=True)\n",
        "  lows=point_append(lows , interval)\n",
        "  #returning index\n",
        "  \n",
        "  df.set_index(['Date'] , inplace=True)\n",
        "\n",
        "\n",
        "  \n",
        "  return highs , lows\n"
      ],
      "metadata": {
        "id": "yK-7jzhAcP7d"
      },
      "execution_count": null,
      "outputs": []
    },
    {
      "cell_type": "code",
      "source": [
        "highs , lows = trend_line(df,10)"
      ],
      "metadata": {
        "id": "Pc-cqGTC1eOk"
      },
      "execution_count": null,
      "outputs": []
    },
    {
      "cell_type": "code",
      "source": [
        ""
      ],
      "metadata": {
        "id": "bMRI7lSE79m2"
      },
      "execution_count": null,
      "outputs": []
    },
    {
      "cell_type": "code",
      "source": [
        "#=====================================================volume_based supoort and resistance =====================================================#"
      ],
      "metadata": {
        "id": "xdwBsyCGrn_s"
      },
      "execution_count": null,
      "outputs": []
    },
    {
      "cell_type": "code",
      "source": [
        "def vol_profile(df , num_of_candles=list):\n",
        "  '''calculate volume of trades based on price, \n",
        "  num_of_candles is a list which we can pass to function to calculate volumne based on them. for instance [7,30].'''\n",
        "\n",
        "  if isinstance(df.index ,pd.core.indexes.datetimes.DatetimeIndex) :\n",
        "    df.reset_index(inplace=True)\n",
        "    \n",
        "  volume = {}\n",
        "  for i in num_of_candles:\n",
        "\n",
        "    temp = df.iloc[-i:,:]\n",
        "\n",
        "    temp.reset_index(drop=True , inplace=True)\n",
        "\n",
        "    max_price = max(temp['High'])\n",
        "    min_price=min(temp['Low'])\n",
        "    \n",
        "    zones = np.arange(min_price,max_price,( max_price-min_price) /24)\n",
        "    \n",
        "    volume_profile = {}\n",
        "\n",
        "    for j in zones:\n",
        "\n",
        "      for m in range(temp.shape[0]):\n",
        "\n",
        "        if j > temp.loc[m,'Low'] and j< temp.loc[m,'High']:\n",
        "          volume_profile.setdefault( j , temp.loc[m,'Volume'])\n",
        "          volume_profile[j]+= temp.loc[m,'Volume']\n",
        "\n",
        "\n",
        "    max_key = max(volume_profile, key=volume_profile.get)\n",
        "\n",
        "    line= [[dt.datetime.today() - dt.timedelta(i) , max_key]]\n",
        "    line= point_adder(line)\n",
        "    volume.setdefault( i , line)\n",
        "\n",
        "  return volume\n",
        "\n"
      ],
      "metadata": {
        "id": "V-lFk0xMD0Bs"
      },
      "execution_count": null,
      "outputs": []
    },
    {
      "cell_type": "code",
      "source": [
        "volume = vol_profile(df , [30,50])"
      ],
      "metadata": {
        "id": "GM8WXPGpY7eu"
      },
      "execution_count": null,
      "outputs": []
    },
    {
      "cell_type": "code",
      "source": [
        "fig = go.Figure()\n",
        "fig.add_trace(\n",
        "        go.Candlestick(\n",
        "        x=df.index,\n",
        "        low=df['Low'],\n",
        "        high=df['High'],\n",
        "        close=df['Close'],\n",
        "        open=df['Open'],\n",
        "        increasing_line_color='green',\n",
        "        decreasing_line_color='red'\n",
        "    ))\n",
        "\n",
        "x=[i[0] for i in output]\n",
        "y=[i[1] for i in output]\n",
        "fig.add_trace(\n",
        "\n",
        "  go.Scatter(x=x ,y=y ,line_color='#0000ff' ,name = 'Static Line')\n",
        "\n",
        "  )\n",
        "x=[i[0] for i in output1]\n",
        "y=[i[1] for i in output1]\n",
        "\n",
        "fig.add_trace(\n",
        "\n",
        "  go.Scatter(x=x ,y=y ,line_color='#FF3C33' , name = 'Static Line' )\n",
        "\n",
        "  )\n",
        "\n",
        "\n",
        "\n",
        "\n",
        "fig.add_trace(\n",
        "    \n",
        "    go.Scatter(x=highs['Date Index'] , y=highs['Values']  , name='Trend Line')\n",
        ")\n",
        "\n",
        "for i in volume.keys():\n",
        "  x=[volume[i][j][0] for j in [0,1]]\n",
        "  y=[volume[i][j][1] for j in [0,1]]\n",
        "\n",
        "  fig.add_trace(\n",
        "      go.Scatter(x=x , y=y  , name = f'Highest Tranded Zone in past {i} candle(s)')\n",
        "  )\n",
        "\n",
        "\n",
        "\n",
        "fig.update_layout(\n",
        "    width=1350,\n",
        "    height=1000 , \n",
        "    title = f'{ticker.upper()} Timeframe:{interval}'\n",
        ")\n",
        "\n",
        "fig.show()"
      ],
      "metadata": {
        "id": "taq852OG9vsL",
        "colab": {
          "base_uri": "https://localhost:8080/",
          "height": 1000
        },
        "outputId": "11e4f5ce-ed6d-4f74-ca53-15d3d20e92fe"
      },
      "execution_count": null,
      "outputs": [
        {
          "output_type": "display_data",
          "data": {
            "text/html": [
              "<html>\n",
              "<head><meta charset=\"utf-8\" /></head>\n",
              "<body>\n",
              "    <div>            <script src=\"https://cdnjs.cloudflare.com/ajax/libs/mathjax/2.7.5/MathJax.js?config=TeX-AMS-MML_SVG\"></script><script type=\"text/javascript\">if (window.MathJax) {MathJax.Hub.Config({SVG: {font: \"STIX-Web\"}});}</script>                <script type=\"text/javascript\">window.PlotlyConfig = {MathJaxConfig: 'local'};</script>\n",
              "        <script src=\"https://cdn.plot.ly/plotly-2.8.3.min.js\"></script>                <div id=\"1682fe38-781d-4bcc-9484-18151d75b0d9\" class=\"plotly-graph-div\" style=\"height:1000px; width:1350px;\"></div>            <script type=\"text/javascript\">                                    window.PLOTLYENV=window.PLOTLYENV || {};                                    if (document.getElementById(\"1682fe38-781d-4bcc-9484-18151d75b0d9\")) {                    Plotly.newPlot(                        \"1682fe38-781d-4bcc-9484-18151d75b0d9\",                        [{\"close\":[55888.132813,56099.519531,57539.945313,54207.320313,48824.425781,49705.332031,47093.851563,46339.761719,46188.453125,45137.769531,49631.242188,48378.988281,50538.242188,48561.167969,48927.304688,48912.382813,51206.691406,52246.523438,54824.117188,56008.550781,57805.121094,57332.089844,61243.085938,59302.316406,55907.199219,56804.902344,58870.894531,57858.921875,58346.652344,58313.644531,57523.421875,54529.144531,54738.945313,52774.265625,51704.160156,55137.3125,55973.511719,55950.746094,57750.199219,58917.691406,58918.832031,59095.808594,59384.3125,57603.890625,58758.554688,59057.878906,58192.359375,56048.9375,58323.953125,58245.003906,59793.234375,60204.964844,59893.453125,63503.457031,63109.695313,63314.011719,61572.789063,60683.820313,56216.183594,55724.265625,56473.03125,53906.089844,51762.273438,51093.652344,50050.867188,49004.253906,54021.753906,55033.117188,54824.703125,53555.109375,57750.175781,57828.050781,56631.078125,57200.292969,53333.539063,57424.007813,56396.515625,57356.402344,58803.777344,58232.316406,55859.796875,56704.574219,49150.535156,49716.191406,49880.535156,46760.1875,46456.058594,43537.511719,42909.402344,37002.441406,40782.738281,37304.691406,37536.632813,34770.582031,38705.980469,38402.222656,39294.199219,38436.96875,35697.605469,34616.066406,35678.128906,37332.855469,36684.925781,37575.179688,39208.765625,36894.40625,35551.957031,35862.378906,33560.707031,33472.632813,37345.121094,36702.597656,37334.398438,35552.515625,39097.859375,40218.476563,40406.269531,38347.0625,38053.503906,35787.246094,35615.871094,35698.296875,31676.693359,32505.660156,33723.027344,34662.4375,31637.779297,32186.277344,34649.644531,34434.335938,35867.777344,35040.835938,33572.117188,33897.046875,34668.546875,35287.78125,33746.003906,34235.195313,33855.328125,32877.371094,33798.011719,33520.519531,34240.1875,33155.847656,32702.025391,32822.347656,31780.730469,31421.539063,31533.068359,31796.810547,30817.832031,29807.347656,32110.693359,32313.105469,33581.550781,34292.445313,35350.1875,37337.535156,39406.941406,39995.90625,40008.421875,42235.546875,41626.195313,39974.894531,39201.945313,38152.980469,39747.503906,40869.554688,42816.5,44555.800781,43798.117188,46365.402344,45585.03125,45593.636719,44428.289063,47793.320313,47096.945313,47047.003906,46004.484375,44695.359375,44801.1875,46717.578125,49339.175781,48905.492188,49321.652344,49546.148438,47706.117188,48960.789063,46942.21875,49058.667969,48902.402344,48829.832031,47054.984375,47166.6875,48847.027344,49327.722656,50025.375,49944.625,51753.410156,52633.535156,46811.128906,46091.390625,46391.421875,44883.910156,45201.457031,46063.269531,44963.074219,47092.492188,48176.347656,47783.359375,47267.519531,48278.363281,47260.21875,42843.800781,40693.675781,43574.507813,44895.097656,42839.75,42716.59375,43208.539063,42235.730469,41034.542969,41564.363281,43790.894531,48116.941406,47711.488281,48199.953125,49112.902344,51514.8125,55361.449219,53805.984375,53967.847656,54968.222656,54771.578125,57484.789063,56041.058594,57401.097656,57321.523438,61593.949219,60892.179688,61553.617188,62026.078125,64261.992188,65992.835938,62210.171875,60692.265625,61393.617188,60930.835938,63039.824219,60363.792969,58482.386719,60622.136719,62227.964844,61888.832031,61318.957031,61004.40625,63226.402344,62970.046875,61452.230469,61125.675781,61527.480469,63326.988281,67566.828125,66971.828125,64995.230469,64949.960938,64155.941406,64469.527344,65466.839844,63557.871094,60161.246094,60368.011719,56942.136719,58119.578125,59697.195313,58730.476563,56289.289063,57569.074219,56280.425781,57274.679688,53569.765625,54815.078125,57248.457031,57806.566406,57005.425781,57229.828125,56477.816406,53598.246094,49200.703125,49368.847656,50582.625,50700.085938,50504.796875,47672.121094,47243.304688,49362.507813,50098.335938,46737.480469,46612.632813,48896.722656,47665.425781,46202.144531,46848.777344,46707.015625,46880.277344,48936.613281,48628.511719,50784.539063,50822.195313,50429.859375,50809.515625,50640.417969,47588.855469,46444.710938,47178.125,46306.445313,47686.8125,47345.21875,46458.117188,45897.574219,43569.003906,43160.929688,41557.902344,41733.941406,41911.601563,41821.261719,42735.855469,43949.101563,42591.570313,43099.699219,43177.398438,43113.878906,42250.550781,42375.632813,41744.328125,40680.417969,36457.316406,35030.25,36276.804688,36654.328125,36954.003906,36852.121094,37138.234375,37784.332031,38138.179688,37917.601563,38483.125,38743.273438,36952.984375,37154.601563,41500.875,41441.164063,42412.433594,43840.285156,44118.445313,44338.796875,43565.113281,42407.9375,42244.46875,42197.515625,42586.917969,44575.203125,43961.859375,40538.011719,40030.976563,39795.078125],\"decreasing\":{\"line\":{\"color\":\"red\"}},\"high\":[56113.652344,57505.226563,58330.570313,57533.390625,54204.929688,51290.136719,51948.96875,48370.785156,48253.269531,46716.429688,49784.015625,50127.511719,52535.136719,51735.089844,49396.429688,49147.21875,51384.367188,52314.070313,54824.117188,57258.253906,58091.0625,57996.621094,61683.863281,61597.917969,60540.992188,56833.179688,58969.816406,60116.25,59498.375,60031.285156,58767.898438,58471.480469,55985.441406,57262.382813,53392.386719,55137.3125,56568.214844,56610.3125,58342.097656,59447.222656,59930.027344,59586.070313,60267.1875,60110.269531,58913.746094,59891.296875,59479.578125,58731.144531,58338.738281,58937.046875,61276.664063,60790.554688,61253.035156,63742.285156,64863.097656,63821.671875,63594.722656,62572.175781,61057.457031,57520.054688,57062.148438,56757.972656,55410.230469,52120.792969,51167.5625,50506.019531,54288.003906,55416.964844,56227.207031,55115.84375,57900.71875,58448.339844,57902.59375,58973.308594,57214.179688,57911.363281,58363.316406,58606.632813,59464.613281,59210.882813,59519.355469,56872.542969,57939.363281,51330.84375,51438.117188,50639.664063,49720.042969,46623.558594,45812.457031,43546.117188,42462.984375,42172.171875,38831.054688,38289.21875,39835.140625,39776.351563,40782.078125,40379.617188,38856.96875,37234.5,36400.667969,37468.25,37896.734375,38231.339844,39478.953125,39242.484375,37917.714844,36436.421875,36790.570313,34017.386719,37537.371094,38334.324219,37608.695313,37408.925781,39322.78125,40978.363281,41295.269531,40516.777344,39513.671875,38187.261719,36457.796875,36059.484375,35721.640625,33292.453125,34753.410156,35228.851563,35487.246094,32637.587891,34656.128906,35219.890625,36542.109375,36074.757813,35035.984375,33939.589844,34909.261719,35937.566406,35284.34375,35038.535156,34997.664063,33907.90625,34042.292969,34209.070313,34584.703125,34592.15625,33327.101563,33061.398438,33159.640625,32218.40625,31935.945313,32398.996094,31885.859375,31006.1875,32752.326172,32576.400391,33581.550781,34490.390625,35364.925781,40499.675781,39406.941406,40816.070313,40593.070313,42235.546875,42231.449219,42541.679688,40419.179688,39750.03125,39952.296875,41341.933594,43271.660156,44689.859375,45282.351563,46456.832031,46637.988281,46735.632813,46228.910156,47831.976563,48098.683594,47357.105469,47998.097656,47139.570313,45952.0625,46970.761719,49342.152344,49717.019531,49471.609375,50482.078125,49878.769531,49202.878906,49347.582031,49112.785156,49283.503906,49644.113281,48925.605469,48189.550781,49111.089844,50343.421875,50982.273438,50545.582031,51868.679688,52700.941406,52853.765625,47334.054688,47261.949219,47031.742188,45969.292969,46364.878906,46598.679688,47218.125,48450.46875,48486.828125,48160.921875,48791.78125,48328.367188,47328.199219,43607.609375,43978.621094,44942.175781,45080.492188,42996.257813,43919.300781,44313.246094,42775.144531,42545.257813,44092.601563,48436.011719,48282.0625,49130.691406,49456.777344,51839.984375,55568.464844,55338.625,55922.980469,55397.945313,56401.304688,57793.039063,57627.878906,57688.660156,58478.734375,62757.128906,62274.476563,61645.523438,62614.660156,64434.535156,66930.390625,66600.546875,63715.023438,61743.878906,61505.804688,63729.324219,63229.027344,61435.183594,62128.632813,62927.609375,62330.144531,62406.171875,62419.003906,64242.792969,63516.9375,63123.289063,62541.46875,61590.683594,63326.988281,67673.742188,68530.335938,68789.625,65579.015625,65460.816406,64915.675781,65495.179688,66281.570313,63721.195313,60823.609375,60948.5,58351.113281,59859.878906,60004.425781,59266.359375,57875.515625,57803.066406,59367.96875,59183.480469,55329.257813,57393.84375,58872.878906,59113.402344,59041.683594,57349.234375,57482.167969,53904.679688,49768.148438,50929.519531,51934.78125,51171.375,50797.164063,50015.253906,49458.210938,50724.867188,50205.0,48431.398438,49473.957031,49425.574219,48004.894531,47313.828125,48089.664063,47401.71875,49300.917969,49544.796875,51332.339844,51814.027344,51176.597656,51196.378906,51956.328125,50679.859375,48119.742188,47879.964844,48472.527344,47827.3125,47881.40625,47510.726563,47406.546875,46929.046875,43748.71875,43153.570313,42228.941406,42663.949219,42199.484375,43001.15625,44135.367188,44278.421875,43346.6875,43724.671875,43436.808594,43179.390625,42534.402344,42478.304688,43413.023438,41060.527344,36688.8125,36433.3125,37247.519531,37444.570313,38825.410156,37148.324219,37952.878906,38576.261719,38266.339844,38647.261719,39115.132813,38834.617188,37154.601563,41527.785156,41847.164063,42500.785156,44401.863281,45293.867188,44727.800781,45661.171875,43810.832031,42992.550781,42693.054688,42775.777344,44667.21875,44578.277344,44132.972656,40929.152344,40407.480469],\"increasing\":{\"line\":{\"color\":\"green\"}},\"low\":[50937.277344,54626.558594,55672.609375,48967.566406,45290.589844,47213.5,47093.851563,44454.84375,45269.027344,43241.617188,45115.09375,47228.84375,48274.320313,47656.929688,46542.515625,47257.527344,48918.679688,49506.054688,51981.832031,53290.890625,54484.59375,55376.648438,56217.972656,59302.316406,55393.164063,53555.027344,54528.628906,54253.578125,56643.703125,58213.296875,56005.617188,54288.15625,53470.695313,52514.332031,50856.570313,51579.855469,54242.910156,55071.113281,55139.339844,57251.550781,57726.417969,58505.277344,58869.28125,57603.890625,57168.675781,57694.824219,57646.808594,55604.023438,55879.085938,57807.863281,58038.707031,59289.796875,59589.875,59869.957031,61554.796875,62208.964844,60222.53125,60361.351563,52829.535156,54368.59375,53448.046875,53695.46875,50583.8125,47714.664063,48805.285156,47159.484375,48852.796875,53319.1875,53887.917969,52418.027344,53129.601563,57052.273438,56141.90625,56590.871094,53191.425781,52969.054688,55382.507813,55321.847656,56975.210938,56482.003906,54071.457031,54608.652344,49150.535156,46980.019531,48868.578125,46664.140625,43963.351563,42207.289063,42367.832031,30681.496094,35050.617188,33616.453125,35383.683594,31227.339844,34551.082031,36581.429688,37905.835938,37247.902344,34779.039063,33693.929688,33520.738281,34241.945313,35787.085938,35966.308594,37243.972656,35717.722656,34900.414063,35304.578125,33480.640625,31114.443359,32475.865234,35847.59375,36044.449219,34728.191406,34864.109375,38757.285156,39609.46875,38176.035156,37439.675781,35255.855469,34933.0625,33432.074219,31295.935547,28893.621094,31772.632813,32385.214844,31350.884766,30184.501953,32071.757813,33902.074219,34252.484375,34086.152344,32883.78125,32770.679688,33402.695313,34396.476563,33213.660156,33599.917969,33839.289063,32133.183594,32318.880859,33116.011719,33346.738281,32697.308594,32261.419922,31639.125,31175.708984,31100.673828,31223.990234,31215.492188,30563.734375,29360.955078,29526.183594,31745.298828,32057.892578,33424.859375,33881.835938,35287.3125,36441.726563,38862.4375,39352.058594,38397.355469,41110.832031,39540.941406,38746.347656,37782.050781,37589.164063,37458.003906,39932.179688,42618.566406,43331.910156,42848.6875,44705.554688,45351.710938,43861.445313,44282.417969,46177.632813,45579.589844,45700.320313,44512.417969,44364.027344,43998.316406,46650.707031,48312.199219,48199.941406,49074.605469,47687.117188,47163.613281,46405.78125,46394.28125,48499.238281,47925.855469,46950.273438,46750.09375,46562.4375,48652.320313,48386.085938,49548.78125,49538.597656,51053.679688,43285.207031,44561.394531,45669.738281,44344.484375,44818.265625,44790.460938,43591.320313,44752.332031,46773.328125,47079.558594,46832.523438,47087.285156,46919.804688,42598.914063,39787.609375,40625.632813,43109.339844,40936.558594,41759.921875,40848.460938,42190.632813,40931.664063,40829.667969,41444.582031,43320.023438,47465.496094,47157.289063,47045.003906,49072.839844,50488.191406,53525.46875,53688.054688,53735.144531,54264.257813,54519.765625,54477.972656,54370.972656,56957.074219,56868.144531,60206.121094,59164.46875,60012.757813,61622.933594,63610.675781,62117.410156,60122.796875,59826.523438,59643.34375,60691.800781,59991.160156,58208.1875,58206.917969,60329.964844,60918.386719,60074.328125,59695.183594,60673.054688,61184.238281,60799.664063,60844.609375,60163.78125,61432.488281,63344.066406,66382.0625,63208.113281,64180.488281,62333.914063,63303.734375,63647.808594,63548.144531,59016.335938,58515.410156,56550.792969,55705.179688,57469.726563,58618.929688,55679.839844,55632.761719,55964.222656,57146.683594,53569.765625,53668.355469,53576.734375,56792.527344,56057.28125,56553.082031,55895.132813,52496.585938,42874.617188,47857.496094,47281.035156,50175.808594,48765.988281,47358.351563,47023.699219,46942.347656,48725.851563,45894.847656,46424.496094,46671.964844,47529.878906,45618.214844,45598.441406,46502.953125,45579.808594,46698.773438,48450.941406,48065.835938,50514.496094,50236.707031,49623.105469,50499.46875,47414.210938,46201.496094,46060.3125,45819.953125,46288.484375,46856.9375,45835.964844,45752.464844,42798.222656,42645.539063,41077.445313,40672.277344,41338.160156,39796.570313,41407.753906,42528.988281,42447.042969,41982.617188,42669.035156,42691.023438,41680.320313,41392.214844,41242.914063,40672.824219,35791.425781,34349.25,34784.96875,33184.058594,35779.429688,36374.90625,35629.28125,36211.109375,37406.472656,37437.710938,36733.574219,38113.664063,36832.730469,36375.539063,37093.628906,41038.097656,41244.90625,41748.15625,42807.835938,43232.96875,43402.808594,42114.539063,41852.574219,41950.941406,41681.957031,42491.035156,43456.691406,40249.371094,39637.617188,39752.769531],\"open\":[51675.980469,55887.335938,56068.566406,57532.738281,54204.929688,48835.085938,49709.082031,47180.464844,46344.773438,46194.015625,45159.503906,49612.105469,48415.816406,50522.304688,48527.03125,48899.230469,48918.679688,51174.117188,52272.96875,54824.011719,55963.179688,57821.21875,57343.371094,61221.132813,59267.429688,55840.785156,56825.828125,58893.078125,57850.441406,58332.261719,58309.914063,57517.890625,54511.660156,54710.488281,52726.746094,51683.011719,55137.566406,55974.941406,55947.898438,57750.132813,58930.277344,58926.5625,59098.878906,59397.410156,57604.839844,58760.875,59171.933594,58186.507813,56099.914063,58326.5625,58253.777344,59846.230469,60175.945313,59890.019531,63523.753906,63075.195313,63258.503906,61529.921875,60701.886719,56191.585938,55681.792969,56471.128906,53857.105469,51739.808594,51143.226563,50052.832031,49077.792969,54030.304688,55036.636719,54858.089844,53568.664063,57714.664063,57825.863281,56620.273438,57214.179688,53252.164063,57441.308594,56413.953125,57352.765625,58877.390625,58250.871094,55847.242188,56714.53125,49735.433594,49682.980469,49855.496094,46716.636719,46415.898438,43488.058594,42944.976563,36753.667969,40596.949219,37371.03125,37531.449219,34700.363281,38795.78125,38392.625,39316.890625,38507.082031,35684.15625,34607.40625,35658.59375,37293.792969,36699.921875,37599.410156,39242.484375,36880.15625,35538.609375,35835.265625,33589.519531,33416.976563,37389.515625,36697.03125,37340.144531,35555.789063,39016.96875,40427.167969,40168.691406,38341.421875,38099.476563,35854.527344,35563.140625,35641.144531,31622.376953,32515.714844,33682.800781,34659.105469,31594.664063,32287.523438,34679.121094,34475.558594,35908.386719,35035.984375,33549.601563,33854.421875,34665.566406,35284.34375,33723.507813,34225.679688,33889.605469,32861.671875,33811.242188,33509.078125,34254.015625,33125.46875,32723.845703,32827.875,31841.550781,31397.308594,31533.884766,31800.011719,30838.285156,29796.285156,32138.873047,32305.958984,33593.730469,34290.292969,35384.03125,37276.035156,39503.1875,39995.453125,40027.484375,42196.304688,41460.84375,39907.261719,39178.402344,38213.332031,39744.515625,40865.867188,42832.796875,44574.4375,43791.925781,46280.847656,45599.703125,45576.878906,44439.691406,47810.6875,47096.667969,47019.960938,45936.457031,44686.75,44741.882813,46723.121094,49327.074219,48869.105469,49291.675781,49562.347656,47727.257813,49002.640625,46894.554688,49072.585938,48911.25,48834.851563,47024.339844,47099.773438,48807.847656,49288.25,50009.324219,49937.859375,51769.003906,52660.480469,46827.761719,45774.742188,46396.664063,44869.839844,45206.628906,46057.214844,44960.050781,47098.0,48158.90625,47771.003906,47273.527344,48268.855469,47261.40625,43012.234375,40677.953125,43560.296875,44894.300781,42840.890625,42721.628906,43234.183594,42200.898438,41064.984375,41551.269531,43816.742188,48137.46875,47680.027344,48208.90625,49174.960938,51486.664063,55338.625,53802.144531,53929.78125,54952.820313,54734.125,57526.832031,56038.257813,57372.832031,57345.902344,61609.527344,60887.652344,61548.804688,62043.164063,64284.585938,66002.234375,62237.890625,60694.628906,61368.34375,60893.925781,63032.761719,60352.0,58470.730469,60624.871094,62239.363281,61850.488281,61320.449219,60963.253906,63254.335938,62941.804688,61460.078125,61068.875,61554.921875,63344.066406,67549.734375,66953.335938,64978.890625,64863.980469,64158.121094,64455.371094,65521.289063,63721.195313,60139.621094,60360.136719,56896.128906,58115.082031,59730.507813,58706.847656,56304.554688,57565.851563,57165.417969,58960.285156,53736.429688,54813.023438,57291.90625,57830.113281,56907.964844,57217.371094,56509.164063,53727.878906,49201.519531,49413.480469,50581.828125,50667.648438,50450.082031,47642.144531,47264.632813,49354.855469,50114.742188,46709.824219,48379.753906,48900.464844,47653.730469,46219.253906,46853.867188,46707.0625,46886.078125,48937.097656,48626.34375,50806.050781,50854.917969,50428.691406,50802.609375,50679.859375,47623.871094,46490.605469,47169.371094,46311.746094,47680.925781,47343.542969,46458.851563,45899.359375,43565.511719,43153.570313,41561.464844,41734.726563,41910.230469,41819.507813,42742.179688,43946.742188,42598.871094,43101.898438,43172.039063,43118.121094,42250.074219,42374.039063,41744.027344,40699.605469,36471.589844,35047.359375,36275.734375,36654.804688,36950.515625,36841.878906,37128.445313,37780.714844,38151.917969,37920.28125,38481.765625,38743.714844,36944.804688,37149.265625,41501.480469,41441.121094,42406.78125,43854.652344,44096.703125,44347.800781,43571.128906,42412.300781,42236.566406,42157.398438,42586.464844,44578.277344,43937.070313,40552.132813,40022.132813],\"x\":[\"2021-02-19T00:00:00\",\"2021-02-20T00:00:00\",\"2021-02-21T00:00:00\",\"2021-02-22T00:00:00\",\"2021-02-23T00:00:00\",\"2021-02-24T00:00:00\",\"2021-02-25T00:00:00\",\"2021-02-26T00:00:00\",\"2021-02-27T00:00:00\",\"2021-02-28T00:00:00\",\"2021-03-01T00:00:00\",\"2021-03-02T00:00:00\",\"2021-03-03T00:00:00\",\"2021-03-04T00:00:00\",\"2021-03-05T00:00:00\",\"2021-03-06T00:00:00\",\"2021-03-07T00:00:00\",\"2021-03-08T00:00:00\",\"2021-03-09T00:00:00\",\"2021-03-10T00:00:00\",\"2021-03-11T00:00:00\",\"2021-03-12T00:00:00\",\"2021-03-13T00:00:00\",\"2021-03-14T00:00:00\",\"2021-03-15T00:00:00\",\"2021-03-16T00:00:00\",\"2021-03-17T00:00:00\",\"2021-03-18T00:00:00\",\"2021-03-19T00:00:00\",\"2021-03-20T00:00:00\",\"2021-03-21T00:00:00\",\"2021-03-22T00:00:00\",\"2021-03-23T00:00:00\",\"2021-03-24T00:00:00\",\"2021-03-25T00:00:00\",\"2021-03-26T00:00:00\",\"2021-03-27T00:00:00\",\"2021-03-28T00:00:00\",\"2021-03-29T00:00:00\",\"2021-03-30T00:00:00\",\"2021-03-31T00:00:00\",\"2021-04-01T00:00:00\",\"2021-04-02T00:00:00\",\"2021-04-03T00:00:00\",\"2021-04-04T00:00:00\",\"2021-04-05T00:00:00\",\"2021-04-06T00:00:00\",\"2021-04-07T00:00:00\",\"2021-04-08T00:00:00\",\"2021-04-09T00:00:00\",\"2021-04-10T00:00:00\",\"2021-04-11T00:00:00\",\"2021-04-12T00:00:00\",\"2021-04-13T00:00:00\",\"2021-04-14T00:00:00\",\"2021-04-15T00:00:00\",\"2021-04-16T00:00:00\",\"2021-04-17T00:00:00\",\"2021-04-18T00:00:00\",\"2021-04-19T00:00:00\",\"2021-04-20T00:00:00\",\"2021-04-21T00:00:00\",\"2021-04-22T00:00:00\",\"2021-04-23T00:00:00\",\"2021-04-24T00:00:00\",\"2021-04-25T00:00:00\",\"2021-04-26T00:00:00\",\"2021-04-27T00:00:00\",\"2021-04-28T00:00:00\",\"2021-04-29T00:00:00\",\"2021-04-30T00:00:00\",\"2021-05-01T00:00:00\",\"2021-05-02T00:00:00\",\"2021-05-03T00:00:00\",\"2021-05-04T00:00:00\",\"2021-05-05T00:00:00\",\"2021-05-06T00:00:00\",\"2021-05-07T00:00:00\",\"2021-05-08T00:00:00\",\"2021-05-09T00:00:00\",\"2021-05-10T00:00:00\",\"2021-05-11T00:00:00\",\"2021-05-12T00:00:00\",\"2021-05-13T00:00:00\",\"2021-05-14T00:00:00\",\"2021-05-15T00:00:00\",\"2021-05-16T00:00:00\",\"2021-05-17T00:00:00\",\"2021-05-18T00:00:00\",\"2021-05-19T00:00:00\",\"2021-05-20T00:00:00\",\"2021-05-21T00:00:00\",\"2021-05-22T00:00:00\",\"2021-05-23T00:00:00\",\"2021-05-24T00:00:00\",\"2021-05-25T00:00:00\",\"2021-05-26T00:00:00\",\"2021-05-27T00:00:00\",\"2021-05-28T00:00:00\",\"2021-05-29T00:00:00\",\"2021-05-30T00:00:00\",\"2021-05-31T00:00:00\",\"2021-06-01T00:00:00\",\"2021-06-02T00:00:00\",\"2021-06-03T00:00:00\",\"2021-06-04T00:00:00\",\"2021-06-05T00:00:00\",\"2021-06-06T00:00:00\",\"2021-06-07T00:00:00\",\"2021-06-08T00:00:00\",\"2021-06-09T00:00:00\",\"2021-06-10T00:00:00\",\"2021-06-11T00:00:00\",\"2021-06-12T00:00:00\",\"2021-06-13T00:00:00\",\"2021-06-14T00:00:00\",\"2021-06-15T00:00:00\",\"2021-06-16T00:00:00\",\"2021-06-17T00:00:00\",\"2021-06-18T00:00:00\",\"2021-06-19T00:00:00\",\"2021-06-20T00:00:00\",\"2021-06-21T00:00:00\",\"2021-06-22T00:00:00\",\"2021-06-23T00:00:00\",\"2021-06-24T00:00:00\",\"2021-06-25T00:00:00\",\"2021-06-26T00:00:00\",\"2021-06-27T00:00:00\",\"2021-06-28T00:00:00\",\"2021-06-29T00:00:00\",\"2021-06-30T00:00:00\",\"2021-07-01T00:00:00\",\"2021-07-02T00:00:00\",\"2021-07-03T00:00:00\",\"2021-07-04T00:00:00\",\"2021-07-05T00:00:00\",\"2021-07-06T00:00:00\",\"2021-07-07T00:00:00\",\"2021-07-08T00:00:00\",\"2021-07-09T00:00:00\",\"2021-07-10T00:00:00\",\"2021-07-11T00:00:00\",\"2021-07-12T00:00:00\",\"2021-07-13T00:00:00\",\"2021-07-14T00:00:00\",\"2021-07-15T00:00:00\",\"2021-07-16T00:00:00\",\"2021-07-17T00:00:00\",\"2021-07-18T00:00:00\",\"2021-07-19T00:00:00\",\"2021-07-20T00:00:00\",\"2021-07-21T00:00:00\",\"2021-07-22T00:00:00\",\"2021-07-23T00:00:00\",\"2021-07-24T00:00:00\",\"2021-07-25T00:00:00\",\"2021-07-26T00:00:00\",\"2021-07-27T00:00:00\",\"2021-07-28T00:00:00\",\"2021-07-29T00:00:00\",\"2021-07-30T00:00:00\",\"2021-07-31T00:00:00\",\"2021-08-01T00:00:00\",\"2021-08-02T00:00:00\",\"2021-08-03T00:00:00\",\"2021-08-04T00:00:00\",\"2021-08-05T00:00:00\",\"2021-08-06T00:00:00\",\"2021-08-07T00:00:00\",\"2021-08-08T00:00:00\",\"2021-08-09T00:00:00\",\"2021-08-10T00:00:00\",\"2021-08-11T00:00:00\",\"2021-08-12T00:00:00\",\"2021-08-13T00:00:00\",\"2021-08-14T00:00:00\",\"2021-08-15T00:00:00\",\"2021-08-16T00:00:00\",\"2021-08-17T00:00:00\",\"2021-08-18T00:00:00\",\"2021-08-19T00:00:00\",\"2021-08-20T00:00:00\",\"2021-08-21T00:00:00\",\"2021-08-22T00:00:00\",\"2021-08-23T00:00:00\",\"2021-08-24T00:00:00\",\"2021-08-25T00:00:00\",\"2021-08-26T00:00:00\",\"2021-08-27T00:00:00\",\"2021-08-28T00:00:00\",\"2021-08-29T00:00:00\",\"2021-08-30T00:00:00\",\"2021-08-31T00:00:00\",\"2021-09-01T00:00:00\",\"2021-09-02T00:00:00\",\"2021-09-03T00:00:00\",\"2021-09-04T00:00:00\",\"2021-09-05T00:00:00\",\"2021-09-06T00:00:00\",\"2021-09-07T00:00:00\",\"2021-09-08T00:00:00\",\"2021-09-09T00:00:00\",\"2021-09-10T00:00:00\",\"2021-09-11T00:00:00\",\"2021-09-12T00:00:00\",\"2021-09-13T00:00:00\",\"2021-09-14T00:00:00\",\"2021-09-15T00:00:00\",\"2021-09-16T00:00:00\",\"2021-09-17T00:00:00\",\"2021-09-18T00:00:00\",\"2021-09-19T00:00:00\",\"2021-09-20T00:00:00\",\"2021-09-21T00:00:00\",\"2021-09-22T00:00:00\",\"2021-09-23T00:00:00\",\"2021-09-24T00:00:00\",\"2021-09-25T00:00:00\",\"2021-09-26T00:00:00\",\"2021-09-27T00:00:00\",\"2021-09-28T00:00:00\",\"2021-09-29T00:00:00\",\"2021-09-30T00:00:00\",\"2021-10-01T00:00:00\",\"2021-10-02T00:00:00\",\"2021-10-03T00:00:00\",\"2021-10-04T00:00:00\",\"2021-10-05T00:00:00\",\"2021-10-06T00:00:00\",\"2021-10-07T00:00:00\",\"2021-10-08T00:00:00\",\"2021-10-09T00:00:00\",\"2021-10-10T00:00:00\",\"2021-10-11T00:00:00\",\"2021-10-12T00:00:00\",\"2021-10-13T00:00:00\",\"2021-10-14T00:00:00\",\"2021-10-15T00:00:00\",\"2021-10-16T00:00:00\",\"2021-10-17T00:00:00\",\"2021-10-18T00:00:00\",\"2021-10-19T00:00:00\",\"2021-10-20T00:00:00\",\"2021-10-21T00:00:00\",\"2021-10-22T00:00:00\",\"2021-10-23T00:00:00\",\"2021-10-24T00:00:00\",\"2021-10-25T00:00:00\",\"2021-10-26T00:00:00\",\"2021-10-27T00:00:00\",\"2021-10-28T00:00:00\",\"2021-10-29T00:00:00\",\"2021-10-30T00:00:00\",\"2021-10-31T00:00:00\",\"2021-11-01T00:00:00\",\"2021-11-02T00:00:00\",\"2021-11-03T00:00:00\",\"2021-11-04T00:00:00\",\"2021-11-05T00:00:00\",\"2021-11-06T00:00:00\",\"2021-11-07T00:00:00\",\"2021-11-08T00:00:00\",\"2021-11-09T00:00:00\",\"2021-11-10T00:00:00\",\"2021-11-11T00:00:00\",\"2021-11-12T00:00:00\",\"2021-11-13T00:00:00\",\"2021-11-14T00:00:00\",\"2021-11-15T00:00:00\",\"2021-11-16T00:00:00\",\"2021-11-17T00:00:00\",\"2021-11-18T00:00:00\",\"2021-11-19T00:00:00\",\"2021-11-20T00:00:00\",\"2021-11-21T00:00:00\",\"2021-11-22T00:00:00\",\"2021-11-23T00:00:00\",\"2021-11-24T00:00:00\",\"2021-11-25T00:00:00\",\"2021-11-26T00:00:00\",\"2021-11-27T00:00:00\",\"2021-11-28T00:00:00\",\"2021-11-29T00:00:00\",\"2021-11-30T00:00:00\",\"2021-12-01T00:00:00\",\"2021-12-02T00:00:00\",\"2021-12-03T00:00:00\",\"2021-12-04T00:00:00\",\"2021-12-05T00:00:00\",\"2021-12-06T00:00:00\",\"2021-12-07T00:00:00\",\"2021-12-08T00:00:00\",\"2021-12-09T00:00:00\",\"2021-12-10T00:00:00\",\"2021-12-11T00:00:00\",\"2021-12-12T00:00:00\",\"2021-12-13T00:00:00\",\"2021-12-14T00:00:00\",\"2021-12-15T00:00:00\",\"2021-12-16T00:00:00\",\"2021-12-17T00:00:00\",\"2021-12-18T00:00:00\",\"2021-12-19T00:00:00\",\"2021-12-20T00:00:00\",\"2021-12-21T00:00:00\",\"2021-12-22T00:00:00\",\"2021-12-23T00:00:00\",\"2021-12-24T00:00:00\",\"2021-12-25T00:00:00\",\"2021-12-26T00:00:00\",\"2021-12-27T00:00:00\",\"2021-12-28T00:00:00\",\"2021-12-29T00:00:00\",\"2021-12-30T00:00:00\",\"2021-12-31T00:00:00\",\"2022-01-01T00:00:00\",\"2022-01-02T00:00:00\",\"2022-01-03T00:00:00\",\"2022-01-04T00:00:00\",\"2022-01-05T00:00:00\",\"2022-01-06T00:00:00\",\"2022-01-07T00:00:00\",\"2022-01-08T00:00:00\",\"2022-01-09T00:00:00\",\"2022-01-10T00:00:00\",\"2022-01-11T00:00:00\",\"2022-01-12T00:00:00\",\"2022-01-13T00:00:00\",\"2022-01-14T00:00:00\",\"2022-01-15T00:00:00\",\"2022-01-16T00:00:00\",\"2022-01-17T00:00:00\",\"2022-01-18T00:00:00\",\"2022-01-19T00:00:00\",\"2022-01-20T00:00:00\",\"2022-01-21T00:00:00\",\"2022-01-22T00:00:00\",\"2022-01-23T00:00:00\",\"2022-01-24T00:00:00\",\"2022-01-25T00:00:00\",\"2022-01-26T00:00:00\",\"2022-01-27T00:00:00\",\"2022-01-28T00:00:00\",\"2022-01-29T00:00:00\",\"2022-01-30T00:00:00\",\"2022-01-31T00:00:00\",\"2022-02-01T00:00:00\",\"2022-02-02T00:00:00\",\"2022-02-03T00:00:00\",\"2022-02-04T00:00:00\",\"2022-02-05T00:00:00\",\"2022-02-06T00:00:00\",\"2022-02-07T00:00:00\",\"2022-02-08T00:00:00\",\"2022-02-09T00:00:00\",\"2022-02-10T00:00:00\",\"2022-02-11T00:00:00\",\"2022-02-12T00:00:00\",\"2022-02-13T00:00:00\",\"2022-02-14T00:00:00\",\"2022-02-15T00:00:00\",\"2022-02-16T00:00:00\",\"2022-02-17T00:00:00\",\"2022-02-18T00:00:00\",\"2022-02-19T00:00:00\"],\"type\":\"candlestick\"},{\"line\":{\"color\":\"#0000ff\"},\"name\":\"Static Line\",\"x\":[\"2021-06-15T00:00:00\",\"2022-02-19T11:50:02.962200\"],\"y\":[41295.269531,41295.269531],\"type\":\"scatter\"},{\"line\":{\"color\":\"#FF3C33\"},\"name\":\"Static Line\",\"x\":[\"2021-09-21T00:00:00\",\"2022-02-19T11:50:02.962401\"],\"y\":[39787.609375,39787.609375],\"type\":\"scatter\"},{\"name\":\"Trend Line\",\"x\":[\"2021-11-10T00:00:00\",\"2021-12-27T00:00:00\",\"2022-02-19T00:00:00\"],\"y\":[68789.625,51956.328125,32615.944481383005],\"type\":\"scatter\"},{\"name\":\"Highest Tranded Zone in past 30 candle(s)\",\"x\":[\"2022-01-20T11:44:11.549276\",\"2022-02-19T11:44:11.549292\"],\"y\":[36823.21663429167,36823.21663429167],\"type\":\"scatter\"},{\"name\":\"Highest Tranded Zone in past 50 candle(s)\",\"x\":[\"2021-12-31T11:44:11.570116\",\"2022-02-19T11:44:11.570132\"],\"y\":[42982.29036466667,42982.29036466667],\"type\":\"scatter\"}],                        {\"template\":{\"data\":{\"bar\":[{\"error_x\":{\"color\":\"#2a3f5f\"},\"error_y\":{\"color\":\"#2a3f5f\"},\"marker\":{\"line\":{\"color\":\"#E5ECF6\",\"width\":0.5},\"pattern\":{\"fillmode\":\"overlay\",\"size\":10,\"solidity\":0.2}},\"type\":\"bar\"}],\"barpolar\":[{\"marker\":{\"line\":{\"color\":\"#E5ECF6\",\"width\":0.5},\"pattern\":{\"fillmode\":\"overlay\",\"size\":10,\"solidity\":0.2}},\"type\":\"barpolar\"}],\"carpet\":[{\"aaxis\":{\"endlinecolor\":\"#2a3f5f\",\"gridcolor\":\"white\",\"linecolor\":\"white\",\"minorgridcolor\":\"white\",\"startlinecolor\":\"#2a3f5f\"},\"baxis\":{\"endlinecolor\":\"#2a3f5f\",\"gridcolor\":\"white\",\"linecolor\":\"white\",\"minorgridcolor\":\"white\",\"startlinecolor\":\"#2a3f5f\"},\"type\":\"carpet\"}],\"choropleth\":[{\"colorbar\":{\"outlinewidth\":0,\"ticks\":\"\"},\"type\":\"choropleth\"}],\"contour\":[{\"colorbar\":{\"outlinewidth\":0,\"ticks\":\"\"},\"colorscale\":[[0.0,\"#0d0887\"],[0.1111111111111111,\"#46039f\"],[0.2222222222222222,\"#7201a8\"],[0.3333333333333333,\"#9c179e\"],[0.4444444444444444,\"#bd3786\"],[0.5555555555555556,\"#d8576b\"],[0.6666666666666666,\"#ed7953\"],[0.7777777777777778,\"#fb9f3a\"],[0.8888888888888888,\"#fdca26\"],[1.0,\"#f0f921\"]],\"type\":\"contour\"}],\"contourcarpet\":[{\"colorbar\":{\"outlinewidth\":0,\"ticks\":\"\"},\"type\":\"contourcarpet\"}],\"heatmap\":[{\"colorbar\":{\"outlinewidth\":0,\"ticks\":\"\"},\"colorscale\":[[0.0,\"#0d0887\"],[0.1111111111111111,\"#46039f\"],[0.2222222222222222,\"#7201a8\"],[0.3333333333333333,\"#9c179e\"],[0.4444444444444444,\"#bd3786\"],[0.5555555555555556,\"#d8576b\"],[0.6666666666666666,\"#ed7953\"],[0.7777777777777778,\"#fb9f3a\"],[0.8888888888888888,\"#fdca26\"],[1.0,\"#f0f921\"]],\"type\":\"heatmap\"}],\"heatmapgl\":[{\"colorbar\":{\"outlinewidth\":0,\"ticks\":\"\"},\"colorscale\":[[0.0,\"#0d0887\"],[0.1111111111111111,\"#46039f\"],[0.2222222222222222,\"#7201a8\"],[0.3333333333333333,\"#9c179e\"],[0.4444444444444444,\"#bd3786\"],[0.5555555555555556,\"#d8576b\"],[0.6666666666666666,\"#ed7953\"],[0.7777777777777778,\"#fb9f3a\"],[0.8888888888888888,\"#fdca26\"],[1.0,\"#f0f921\"]],\"type\":\"heatmapgl\"}],\"histogram\":[{\"marker\":{\"pattern\":{\"fillmode\":\"overlay\",\"size\":10,\"solidity\":0.2}},\"type\":\"histogram\"}],\"histogram2d\":[{\"colorbar\":{\"outlinewidth\":0,\"ticks\":\"\"},\"colorscale\":[[0.0,\"#0d0887\"],[0.1111111111111111,\"#46039f\"],[0.2222222222222222,\"#7201a8\"],[0.3333333333333333,\"#9c179e\"],[0.4444444444444444,\"#bd3786\"],[0.5555555555555556,\"#d8576b\"],[0.6666666666666666,\"#ed7953\"],[0.7777777777777778,\"#fb9f3a\"],[0.8888888888888888,\"#fdca26\"],[1.0,\"#f0f921\"]],\"type\":\"histogram2d\"}],\"histogram2dcontour\":[{\"colorbar\":{\"outlinewidth\":0,\"ticks\":\"\"},\"colorscale\":[[0.0,\"#0d0887\"],[0.1111111111111111,\"#46039f\"],[0.2222222222222222,\"#7201a8\"],[0.3333333333333333,\"#9c179e\"],[0.4444444444444444,\"#bd3786\"],[0.5555555555555556,\"#d8576b\"],[0.6666666666666666,\"#ed7953\"],[0.7777777777777778,\"#fb9f3a\"],[0.8888888888888888,\"#fdca26\"],[1.0,\"#f0f921\"]],\"type\":\"histogram2dcontour\"}],\"mesh3d\":[{\"colorbar\":{\"outlinewidth\":0,\"ticks\":\"\"},\"type\":\"mesh3d\"}],\"parcoords\":[{\"line\":{\"colorbar\":{\"outlinewidth\":0,\"ticks\":\"\"}},\"type\":\"parcoords\"}],\"pie\":[{\"automargin\":true,\"type\":\"pie\"}],\"scatter\":[{\"marker\":{\"colorbar\":{\"outlinewidth\":0,\"ticks\":\"\"}},\"type\":\"scatter\"}],\"scatter3d\":[{\"line\":{\"colorbar\":{\"outlinewidth\":0,\"ticks\":\"\"}},\"marker\":{\"colorbar\":{\"outlinewidth\":0,\"ticks\":\"\"}},\"type\":\"scatter3d\"}],\"scattercarpet\":[{\"marker\":{\"colorbar\":{\"outlinewidth\":0,\"ticks\":\"\"}},\"type\":\"scattercarpet\"}],\"scattergeo\":[{\"marker\":{\"colorbar\":{\"outlinewidth\":0,\"ticks\":\"\"}},\"type\":\"scattergeo\"}],\"scattergl\":[{\"marker\":{\"colorbar\":{\"outlinewidth\":0,\"ticks\":\"\"}},\"type\":\"scattergl\"}],\"scattermapbox\":[{\"marker\":{\"colorbar\":{\"outlinewidth\":0,\"ticks\":\"\"}},\"type\":\"scattermapbox\"}],\"scatterpolar\":[{\"marker\":{\"colorbar\":{\"outlinewidth\":0,\"ticks\":\"\"}},\"type\":\"scatterpolar\"}],\"scatterpolargl\":[{\"marker\":{\"colorbar\":{\"outlinewidth\":0,\"ticks\":\"\"}},\"type\":\"scatterpolargl\"}],\"scatterternary\":[{\"marker\":{\"colorbar\":{\"outlinewidth\":0,\"ticks\":\"\"}},\"type\":\"scatterternary\"}],\"surface\":[{\"colorbar\":{\"outlinewidth\":0,\"ticks\":\"\"},\"colorscale\":[[0.0,\"#0d0887\"],[0.1111111111111111,\"#46039f\"],[0.2222222222222222,\"#7201a8\"],[0.3333333333333333,\"#9c179e\"],[0.4444444444444444,\"#bd3786\"],[0.5555555555555556,\"#d8576b\"],[0.6666666666666666,\"#ed7953\"],[0.7777777777777778,\"#fb9f3a\"],[0.8888888888888888,\"#fdca26\"],[1.0,\"#f0f921\"]],\"type\":\"surface\"}],\"table\":[{\"cells\":{\"fill\":{\"color\":\"#EBF0F8\"},\"line\":{\"color\":\"white\"}},\"header\":{\"fill\":{\"color\":\"#C8D4E3\"},\"line\":{\"color\":\"white\"}},\"type\":\"table\"}]},\"layout\":{\"annotationdefaults\":{\"arrowcolor\":\"#2a3f5f\",\"arrowhead\":0,\"arrowwidth\":1},\"autotypenumbers\":\"strict\",\"coloraxis\":{\"colorbar\":{\"outlinewidth\":0,\"ticks\":\"\"}},\"colorscale\":{\"diverging\":[[0,\"#8e0152\"],[0.1,\"#c51b7d\"],[0.2,\"#de77ae\"],[0.3,\"#f1b6da\"],[0.4,\"#fde0ef\"],[0.5,\"#f7f7f7\"],[0.6,\"#e6f5d0\"],[0.7,\"#b8e186\"],[0.8,\"#7fbc41\"],[0.9,\"#4d9221\"],[1,\"#276419\"]],\"sequential\":[[0.0,\"#0d0887\"],[0.1111111111111111,\"#46039f\"],[0.2222222222222222,\"#7201a8\"],[0.3333333333333333,\"#9c179e\"],[0.4444444444444444,\"#bd3786\"],[0.5555555555555556,\"#d8576b\"],[0.6666666666666666,\"#ed7953\"],[0.7777777777777778,\"#fb9f3a\"],[0.8888888888888888,\"#fdca26\"],[1.0,\"#f0f921\"]],\"sequentialminus\":[[0.0,\"#0d0887\"],[0.1111111111111111,\"#46039f\"],[0.2222222222222222,\"#7201a8\"],[0.3333333333333333,\"#9c179e\"],[0.4444444444444444,\"#bd3786\"],[0.5555555555555556,\"#d8576b\"],[0.6666666666666666,\"#ed7953\"],[0.7777777777777778,\"#fb9f3a\"],[0.8888888888888888,\"#fdca26\"],[1.0,\"#f0f921\"]]},\"colorway\":[\"#636efa\",\"#EF553B\",\"#00cc96\",\"#ab63fa\",\"#FFA15A\",\"#19d3f3\",\"#FF6692\",\"#B6E880\",\"#FF97FF\",\"#FECB52\"],\"font\":{\"color\":\"#2a3f5f\"},\"geo\":{\"bgcolor\":\"white\",\"lakecolor\":\"white\",\"landcolor\":\"#E5ECF6\",\"showlakes\":true,\"showland\":true,\"subunitcolor\":\"white\"},\"hoverlabel\":{\"align\":\"left\"},\"hovermode\":\"closest\",\"mapbox\":{\"style\":\"light\"},\"paper_bgcolor\":\"white\",\"plot_bgcolor\":\"#E5ECF6\",\"polar\":{\"angularaxis\":{\"gridcolor\":\"white\",\"linecolor\":\"white\",\"ticks\":\"\"},\"bgcolor\":\"#E5ECF6\",\"radialaxis\":{\"gridcolor\":\"white\",\"linecolor\":\"white\",\"ticks\":\"\"}},\"scene\":{\"xaxis\":{\"backgroundcolor\":\"#E5ECF6\",\"gridcolor\":\"white\",\"gridwidth\":2,\"linecolor\":\"white\",\"showbackground\":true,\"ticks\":\"\",\"zerolinecolor\":\"white\"},\"yaxis\":{\"backgroundcolor\":\"#E5ECF6\",\"gridcolor\":\"white\",\"gridwidth\":2,\"linecolor\":\"white\",\"showbackground\":true,\"ticks\":\"\",\"zerolinecolor\":\"white\"},\"zaxis\":{\"backgroundcolor\":\"#E5ECF6\",\"gridcolor\":\"white\",\"gridwidth\":2,\"linecolor\":\"white\",\"showbackground\":true,\"ticks\":\"\",\"zerolinecolor\":\"white\"}},\"shapedefaults\":{\"line\":{\"color\":\"#2a3f5f\"}},\"ternary\":{\"aaxis\":{\"gridcolor\":\"white\",\"linecolor\":\"white\",\"ticks\":\"\"},\"baxis\":{\"gridcolor\":\"white\",\"linecolor\":\"white\",\"ticks\":\"\"},\"bgcolor\":\"#E5ECF6\",\"caxis\":{\"gridcolor\":\"white\",\"linecolor\":\"white\",\"ticks\":\"\"}},\"title\":{\"x\":0.05},\"xaxis\":{\"automargin\":true,\"gridcolor\":\"white\",\"linecolor\":\"white\",\"ticks\":\"\",\"title\":{\"standoff\":15},\"zerolinecolor\":\"white\",\"zerolinewidth\":2},\"yaxis\":{\"automargin\":true,\"gridcolor\":\"white\",\"linecolor\":\"white\",\"ticks\":\"\",\"title\":{\"standoff\":15},\"zerolinecolor\":\"white\",\"zerolinewidth\":2}}},\"width\":1350,\"height\":1000,\"title\":{\"text\":\"BTC Timeframe:1d\"}},                        {\"responsive\": true}                    ).then(function(){\n",
              "                            \n",
              "var gd = document.getElementById('1682fe38-781d-4bcc-9484-18151d75b0d9');\n",
              "var x = new MutationObserver(function (mutations, observer) {{\n",
              "        var display = window.getComputedStyle(gd).display;\n",
              "        if (!display || display === 'none') {{\n",
              "            console.log([gd, 'removed!']);\n",
              "            Plotly.purge(gd);\n",
              "            observer.disconnect();\n",
              "        }}\n",
              "}});\n",
              "\n",
              "// Listen for the removal of the full notebook cells\n",
              "var notebookContainer = gd.closest('#notebook-container');\n",
              "if (notebookContainer) {{\n",
              "    x.observe(notebookContainer, {childList: true});\n",
              "}}\n",
              "\n",
              "// Listen for the clearing of the current output cell\n",
              "var outputEl = gd.closest('.output');\n",
              "if (outputEl) {{\n",
              "    x.observe(outputEl, {childList: true});\n",
              "}}\n",
              "\n",
              "                        })                };                            </script>        </div>\n",
              "</body>\n",
              "</html>"
            ]
          },
          "metadata": {}
        }
      ]
    },
    {
      "cell_type": "code",
      "source": [
        "#===================================================== Divergence **  Calculation =====================================================#"
      ],
      "metadata": {
        "id": "6xhp2GuO8ePl"
      },
      "execution_count": null,
      "outputs": []
    },
    {
      "cell_type": "code",
      "source": [
        "ta.indicators()"
      ],
      "metadata": {
        "colab": {
          "base_uri": "https://localhost:8080/",
          "height": 165
        },
        "id": "dXzVQb4L8pjh",
        "outputId": "d538db20-5dec-45a8-bbfe-13b2ccecb831"
      },
      "execution_count": null,
      "outputs": [
        {
          "output_type": "error",
          "ename": "AttributeError",
          "evalue": "ignored",
          "traceback": [
            "\u001b[0;31m---------------------------------------------------------------------------\u001b[0m",
            "\u001b[0;31mAttributeError\u001b[0m                            Traceback (most recent call last)",
            "\u001b[0;32m<ipython-input-105-169daf632771>\u001b[0m in \u001b[0;36m<module>\u001b[0;34m()\u001b[0m\n\u001b[0;32m----> 1\u001b[0;31m \u001b[0mta\u001b[0m\u001b[0;34m.\u001b[0m\u001b[0mindicators\u001b[0m\u001b[0;34m(\u001b[0m\u001b[0;34m)\u001b[0m\u001b[0;34m\u001b[0m\u001b[0;34m\u001b[0m\u001b[0m\n\u001b[0m",
            "\u001b[0;31mAttributeError\u001b[0m: module 'pandas_ta' has no attribute 'indicators'"
          ]
        }
      ]
    }
  ]
}